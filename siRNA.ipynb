{
 "cells": [
  {
   "cell_type": "code",
   "execution_count": null,
   "metadata": {},
   "outputs": [
    {
     "name": "stdout",
     "output_type": "stream",
     "text": [
      "CGTGTTGAGAAAAAGACAGTTCAAGAGACTGTCTTTTTCTCAACACGTTTTT\n"
     ]
    }
   ],
   "source": [
    "import tkinter as tk\n",
    "from tkinter import *\n",
    "from tkinter import filedialog\n",
    "from tkinter.ttk import Combobox \n",
    "from tkinter.ttk import Progressbar \n",
    "from tkinter import ttk \n",
    "import numpy as np\n",
    "from Bio import SeqIO\n",
    "\n",
    "window = tk.Tk()  \n",
    "window.title(\"Подбор siRNA\")\n",
    "window.config()\n",
    "window.geometry('800x350')\n",
    "\n",
    "root = tk.Tk()\n",
    "root.withdraw()\n",
    "file = filedialog.askopenfilename(title = \"Выберите файл с геномом возбудителя\", filetypes = [(\"FASTA Files\", \"*.fa\")])\n",
    "\n",
    "s='' #прочтение файла возбудителя\n",
    "with open (file) as f:\n",
    "    for row in f:\n",
    "        if row[0] != '>':\n",
    "            s= s + row    \n",
    "GC = 0\n",
    "Met = s.find('ATG')+3 # поиск метионина\n",
    "ORF = s[Met:] # нахождение ORF - open reading frame\n",
    "while True: #цикл, с помощью которого находим 19 нуклеотидов после АА, где GC - 30-50%\n",
    "    AA_place = ORF.find('AA')\n",
    "    pin = ORF[(AA_place+2): (AA_place+21)]\n",
    "    G = pin.count('G')\n",
    "    C= pin.count('C')\n",
    "    GC = G+C\n",
    "    st = s.replace(pin, \"\")\n",
    "    if 0.3 < (GC/19) < 0.5:\n",
    "        break\n",
    "    else:\n",
    "        GC = 0\n",
    "        ORF = ORF[AA_place+2:]\n",
    "        continue\n",
    "\n",
    "\n",
    "# код для создания колмплементарной последовательности\n",
    "res = []\n",
    "for i in range(len(pin)):\n",
    "    if pin[i] == 'A':\n",
    "        res.append('T')\n",
    "    elif pin[i] == 'T':\n",
    "        res.append('A')\n",
    "    elif pin[i] == 'G':\n",
    "        res.append('C')\n",
    "    elif pin[i] == 'C':\n",
    "        res.append('G')\n",
    "antipin = ''.join(res)\n",
    "complpin = antipin[::-1]\n",
    "# собственно собираем siRNA\n",
    "loop = 'TTCAAGAGA'\n",
    "poly_T = 'TTTTT'\n",
    "siRNA = pin + loop + complpin + poly_T\n",
    "print(siRNA)\n",
    "\n",
    "editor = Text()\n",
    "editor.pack(fill=BOTH, expand=1)\n",
    "editor.insert(\"1.0\", 'Подобранная siRNA:' + siRNA) \n",
    "  \n",
    "root.mainloop()"
   ]
  },
  {
   "cell_type": "code",
   "execution_count": null,
   "metadata": {},
   "outputs": [],
   "source": []
  }
 ],
 "metadata": {
  "kernelspec": {
   "display_name": "Python 3",
   "language": "python",
   "name": "python3"
  },
  "language_info": {
   "codemirror_mode": {
    "name": "ipython",
    "version": 3
   },
   "file_extension": ".py",
   "mimetype": "text/x-python",
   "name": "python",
   "nbconvert_exporter": "python",
   "pygments_lexer": "ipython3",
   "version": "3.8.5"
  }
 },
 "nbformat": 4,
 "nbformat_minor": 4
}
